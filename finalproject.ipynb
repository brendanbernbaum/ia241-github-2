{
 "cells": [
  {
   "cell_type": "markdown",
   "id": "ba8d7dce",
   "metadata": {},
   "source": [
    "# Analyzing COVID-19 Data in Python"
   ]
  },
  {
   "cell_type": "markdown",
   "id": "5d7736ed",
   "metadata": {},
   "source": [
    "## Background on COVID-19"
   ]
  },
  {
   "cell_type": "markdown",
   "id": "cee1e987",
   "metadata": {},
   "source": [
    "Coronavirus (COVID-19) is a type of virus that emerged in December 2019 which instigated a global pandemic. The virus is caused by SARS-CoV-2 and can be spread very easily through air particles. Talking, touching, sneezing, and laughing are enough for the virus to be spread from person to person and the contration can last from 10 to 20 days. Coronavirus can cause a wide variety of symptoms such as coughs, fevers, shortness of breath, headaches, nausea, vomiting, and even death. Ways to curb the virus is to wear mask coverings, wash your hands, and stay indoors as much as possible. If you contract the virus you must quarantine for 14 days since it is highly contagious. "
   ]
  },
  {
   "cell_type": "markdown",
   "id": "3b0ad3ea",
   "metadata": {},
   "source": [
    "## Data Source"
   ]
  },
  {
   "cell_type": "markdown",
   "id": "f0500a59",
   "metadata": {},
   "source": [
    "The data is downloaded from [European Center for Disease Prevention and Control](https://www.ecdc.europa.eu/en/publications-data/download-todays-data-geographic-distribution-covid-19-cases-worldwide)"
   ]
  },
  {
   "cell_type": "code",
   "execution_count": 1,
   "id": "9bdbb1f3",
   "metadata": {},
   "outputs": [],
   "source": [
    "%matplotlib inline\n",
    "import pandas"
   ]
  },
  {
   "cell_type": "markdown",
   "id": "82663268",
   "metadata": {},
   "source": [
    "## Imported Data from S3 Bucket"
   ]
  },
  {
   "cell_type": "code",
   "execution_count": 2,
   "id": "dbe05c56",
   "metadata": {},
   "outputs": [
    {
     "data": {
      "text/html": [
       "<div>\n",
       "<style scoped>\n",
       "    .dataframe tbody tr th:only-of-type {\n",
       "        vertical-align: middle;\n",
       "    }\n",
       "\n",
       "    .dataframe tbody tr th {\n",
       "        vertical-align: top;\n",
       "    }\n",
       "\n",
       "    .dataframe thead th {\n",
       "        text-align: right;\n",
       "    }\n",
       "</style>\n",
       "<table border=\"1\" class=\"dataframe\">\n",
       "  <thead>\n",
       "    <tr style=\"text-align: right;\">\n",
       "      <th></th>\n",
       "      <th>dateRep</th>\n",
       "      <th>day</th>\n",
       "      <th>month</th>\n",
       "      <th>year</th>\n",
       "      <th>cases</th>\n",
       "      <th>deaths</th>\n",
       "      <th>countriesAndTerritories</th>\n",
       "      <th>geoId</th>\n",
       "      <th>countryterritoryCode</th>\n",
       "      <th>popData2019</th>\n",
       "      <th>continentExp</th>\n",
       "      <th>Cumulative_number_for_14_days_of_COVID-19_cases_per_100000</th>\n",
       "    </tr>\n",
       "  </thead>\n",
       "  <tbody>\n",
       "    <tr>\n",
       "      <th>0</th>\n",
       "      <td>14/12/2020</td>\n",
       "      <td>14</td>\n",
       "      <td>12</td>\n",
       "      <td>2020</td>\n",
       "      <td>746</td>\n",
       "      <td>6</td>\n",
       "      <td>Afghanistan</td>\n",
       "      <td>AF</td>\n",
       "      <td>AFG</td>\n",
       "      <td>38041757.0</td>\n",
       "      <td>Asia</td>\n",
       "      <td>9.013779</td>\n",
       "    </tr>\n",
       "    <tr>\n",
       "      <th>1</th>\n",
       "      <td>13/12/2020</td>\n",
       "      <td>13</td>\n",
       "      <td>12</td>\n",
       "      <td>2020</td>\n",
       "      <td>298</td>\n",
       "      <td>9</td>\n",
       "      <td>Afghanistan</td>\n",
       "      <td>AF</td>\n",
       "      <td>AFG</td>\n",
       "      <td>38041757.0</td>\n",
       "      <td>Asia</td>\n",
       "      <td>7.052776</td>\n",
       "    </tr>\n",
       "    <tr>\n",
       "      <th>2</th>\n",
       "      <td>2020-12-12 00:00:00</td>\n",
       "      <td>12</td>\n",
       "      <td>12</td>\n",
       "      <td>2020</td>\n",
       "      <td>113</td>\n",
       "      <td>11</td>\n",
       "      <td>Afghanistan</td>\n",
       "      <td>AF</td>\n",
       "      <td>AFG</td>\n",
       "      <td>38041757.0</td>\n",
       "      <td>Asia</td>\n",
       "      <td>6.868768</td>\n",
       "    </tr>\n",
       "    <tr>\n",
       "      <th>3</th>\n",
       "      <td>2020-11-12 00:00:00</td>\n",
       "      <td>11</td>\n",
       "      <td>12</td>\n",
       "      <td>2020</td>\n",
       "      <td>63</td>\n",
       "      <td>10</td>\n",
       "      <td>Afghanistan</td>\n",
       "      <td>AF</td>\n",
       "      <td>AFG</td>\n",
       "      <td>38041757.0</td>\n",
       "      <td>Asia</td>\n",
       "      <td>7.134266</td>\n",
       "    </tr>\n",
       "    <tr>\n",
       "      <th>4</th>\n",
       "      <td>2020-10-12 00:00:00</td>\n",
       "      <td>10</td>\n",
       "      <td>12</td>\n",
       "      <td>2020</td>\n",
       "      <td>202</td>\n",
       "      <td>16</td>\n",
       "      <td>Afghanistan</td>\n",
       "      <td>AF</td>\n",
       "      <td>AFG</td>\n",
       "      <td>38041757.0</td>\n",
       "      <td>Asia</td>\n",
       "      <td>6.968658</td>\n",
       "    </tr>\n",
       "    <tr>\n",
       "      <th>5</th>\n",
       "      <td>2020-09-12 00:00:00</td>\n",
       "      <td>9</td>\n",
       "      <td>12</td>\n",
       "      <td>2020</td>\n",
       "      <td>135</td>\n",
       "      <td>13</td>\n",
       "      <td>Afghanistan</td>\n",
       "      <td>AF</td>\n",
       "      <td>AFG</td>\n",
       "      <td>38041757.0</td>\n",
       "      <td>Asia</td>\n",
       "      <td>6.963401</td>\n",
       "    </tr>\n",
       "    <tr>\n",
       "      <th>6</th>\n",
       "      <td>2020-08-12 00:00:00</td>\n",
       "      <td>8</td>\n",
       "      <td>12</td>\n",
       "      <td>2020</td>\n",
       "      <td>200</td>\n",
       "      <td>6</td>\n",
       "      <td>Afghanistan</td>\n",
       "      <td>AF</td>\n",
       "      <td>AFG</td>\n",
       "      <td>38041757.0</td>\n",
       "      <td>Asia</td>\n",
       "      <td>7.094835</td>\n",
       "    </tr>\n",
       "    <tr>\n",
       "      <th>7</th>\n",
       "      <td>2020-07-12 00:00:00</td>\n",
       "      <td>7</td>\n",
       "      <td>12</td>\n",
       "      <td>2020</td>\n",
       "      <td>210</td>\n",
       "      <td>26</td>\n",
       "      <td>Afghanistan</td>\n",
       "      <td>AF</td>\n",
       "      <td>AFG</td>\n",
       "      <td>38041757.0</td>\n",
       "      <td>Asia</td>\n",
       "      <td>7.215755</td>\n",
       "    </tr>\n",
       "    <tr>\n",
       "      <th>8</th>\n",
       "      <td>2020-06-12 00:00:00</td>\n",
       "      <td>6</td>\n",
       "      <td>12</td>\n",
       "      <td>2020</td>\n",
       "      <td>234</td>\n",
       "      <td>10</td>\n",
       "      <td>Afghanistan</td>\n",
       "      <td>AF</td>\n",
       "      <td>AFG</td>\n",
       "      <td>38041757.0</td>\n",
       "      <td>Asia</td>\n",
       "      <td>7.326160</td>\n",
       "    </tr>\n",
       "    <tr>\n",
       "      <th>9</th>\n",
       "      <td>2020-05-12 00:00:00</td>\n",
       "      <td>5</td>\n",
       "      <td>12</td>\n",
       "      <td>2020</td>\n",
       "      <td>235</td>\n",
       "      <td>18</td>\n",
       "      <td>Afghanistan</td>\n",
       "      <td>AF</td>\n",
       "      <td>AFG</td>\n",
       "      <td>38041757.0</td>\n",
       "      <td>Asia</td>\n",
       "      <td>7.115865</td>\n",
       "    </tr>\n",
       "  </tbody>\n",
       "</table>\n",
       "</div>"
      ],
      "text/plain": [
       "               dateRep  day  month  year  cases  deaths  \\\n",
       "0           14/12/2020   14     12  2020    746       6   \n",
       "1           13/12/2020   13     12  2020    298       9   \n",
       "2  2020-12-12 00:00:00   12     12  2020    113      11   \n",
       "3  2020-11-12 00:00:00   11     12  2020     63      10   \n",
       "4  2020-10-12 00:00:00   10     12  2020    202      16   \n",
       "5  2020-09-12 00:00:00    9     12  2020    135      13   \n",
       "6  2020-08-12 00:00:00    8     12  2020    200       6   \n",
       "7  2020-07-12 00:00:00    7     12  2020    210      26   \n",
       "8  2020-06-12 00:00:00    6     12  2020    234      10   \n",
       "9  2020-05-12 00:00:00    5     12  2020    235      18   \n",
       "\n",
       "  countriesAndTerritories geoId countryterritoryCode  popData2019  \\\n",
       "0             Afghanistan    AF                  AFG   38041757.0   \n",
       "1             Afghanistan    AF                  AFG   38041757.0   \n",
       "2             Afghanistan    AF                  AFG   38041757.0   \n",
       "3             Afghanistan    AF                  AFG   38041757.0   \n",
       "4             Afghanistan    AF                  AFG   38041757.0   \n",
       "5             Afghanistan    AF                  AFG   38041757.0   \n",
       "6             Afghanistan    AF                  AFG   38041757.0   \n",
       "7             Afghanistan    AF                  AFG   38041757.0   \n",
       "8             Afghanistan    AF                  AFG   38041757.0   \n",
       "9             Afghanistan    AF                  AFG   38041757.0   \n",
       "\n",
       "  continentExp  Cumulative_number_for_14_days_of_COVID-19_cases_per_100000  \n",
       "0         Asia                                           9.013779           \n",
       "1         Asia                                           7.052776           \n",
       "2         Asia                                           6.868768           \n",
       "3         Asia                                           7.134266           \n",
       "4         Asia                                           6.968658           \n",
       "5         Asia                                           6.963401           \n",
       "6         Asia                                           7.094835           \n",
       "7         Asia                                           7.215755           \n",
       "8         Asia                                           7.326160           \n",
       "9         Asia                                           7.115865           "
      ]
     },
     "execution_count": 2,
     "metadata": {},
     "output_type": "execute_result"
    }
   ],
   "source": [
    "df = pandas.read_excel('s3://ia241-2-spring2022-bernbaum/covid_data (1).xls')\n",
    "df[:10]\n",
    "#this will show the top then rows from the imported data"
   ]
  },
  {
   "cell_type": "markdown",
   "id": "9bec39f4",
   "metadata": {},
   "source": [
    "## The Top 5 Countries With the Highest Deaths"
   ]
  },
  {
   "cell_type": "code",
   "execution_count": 3,
   "id": "a21875ee",
   "metadata": {},
   "outputs": [
    {
     "data": {
      "text/plain": [
       "<AxesSubplot:xlabel='countriesAndTerritories'>"
      ]
     },
     "execution_count": 3,
     "metadata": {},
     "output_type": "execute_result"
    },
    {
     "data": {
      "image/png": "[encoded data removed]",
      "text/plain": [
       "<Figure size 432x288 with 1 Axes>"
      ]
     },
     "metadata": {
      "needs_background": "light"
     },
     "output_type": "display_data"
    }
   ],
   "source": [
    "sum_death_by_country = df.groupby('countriesAndTerritories').sum()['deaths']\n",
    "#with this code I chose the two variables I want to group together from the data\n",
    "sum_death_by_country.nlargest(5).plot.bar()\n",
    "#this code will group my data with the highest death numbers\n",
    "#this code will represent the data I want to extract into a bar graph"
   ]
  },
  {
   "cell_type": "markdown",
   "id": "351fb6b5",
   "metadata": {},
   "source": [
    "This bar graph visual specifically shows the top five countries with the highest number of deaths on the x axis. It also shows the amount of deaths each country experienced on the y axis. I chose the bar graph for this data because it gives you a good visual on the comparisons between each country and you can easily see the difference in the number of deaths for each country."
   ]
  },
  {
   "cell_type": "markdown",
   "id": "fd9f97de",
   "metadata": {},
   "source": [
    "## The Sum Number of Cases Per Month"
   ]
  },
  {
   "cell_type": "code",
   "execution_count": 4,
   "id": "cc6c384b",
   "metadata": {},
   "outputs": [
    {
     "data": {
      "text/plain": [
       "<AxesSubplot:xlabel='month'>"
      ]
     },
     "execution_count": 4,
     "metadata": {},
     "output_type": "execute_result"
    },
    {
     "data": {
      "image/png": "[encoded data removed]",
      "text/plain": [
       "<Figure size 432x288 with 1 Axes>"
      ]
     },
     "metadata": {
      "needs_background": "light"
     },
     "output_type": "display_data"
    }
   ],
   "source": [
    "sum_death_by_month = df.groupby('month').sum()['cases']\n",
    "#with this code I choose my group name and I also choose the two variables I am interested in presenting\n",
    "sum_death_by_month.plot()\n",
    "#with this code I assign my group name to what graph I would like to represent my data with"
   ]
  },
  {
   "cell_type": "markdown",
   "id": "536d0e89",
   "metadata": {},
   "source": [
    "I decided to choose a line graph in order to represent this data because it is visually simple and it gives you a good idea of which months COVID-19 got worse and better. The y axis shows each month of the 2020 year in intervals of 2 while the number of cases are represented on the x axis in intervals of 0.25. You can easily recognize how COVID-19 slowly got worse and which months the amount of cases shot up."
   ]
  },
  {
   "cell_type": "markdown",
   "id": "95cc9cbb",
   "metadata": {},
   "source": [
    "## India's Correlation Between Cases and Number of Deaths Between Months"
   ]
  },
  {
   "cell_type": "code",
   "execution_count": 8,
   "id": "ea900128",
   "metadata": {},
   "outputs": [
    {
     "data": {
      "text/plain": [
       "<AxesSubplot:xlabel='cases', ylabel='deaths'>"
      ]
     },
     "execution_count": 8,
     "metadata": {},
     "output_type": "execute_result"
    },
    {
     "data": {
      "image/png": "[encoded data removed]",
      "text/plain": [
       "<Figure size 432x288 with 2 Axes>"
      ]
     },
     "metadata": {
      "needs_background": "light"
     },
     "output_type": "display_data"
    }
   ],
   "source": [
    "india_data = df.loc[df['countriesAndTerritories'] == 'India']\n",
    "#with this code I first choose a country to get information from by assigning countriesAndTerritories to India\n",
    "india_data.plot.scatter(x='cases', y='deaths', c='month')\n",
    "#secondly I choose .plot.scatter in order to represent my data in a scatter plot\n",
    "#third, I assign the x and y axis to my first to variables, then I choose \"c\" for the months to be represented in color"
   ]
  },
  {
   "cell_type": "markdown",
   "id": "a59f9326",
   "metadata": {},
   "source": [
    "I chose to use a scatter plot to best represent my data since it is a good graph to use when identifying over two variables. The x axis represents the number of deaths in India using variables of 250 while the y axis shows an increasingly number of cases. The bar of shades from black to white are used to represent my third variable months. The shade moves darker as the months go later into the year (December, November). The shades help represent what months had the worst amount of deaths and cases while it also shows outliers in the data."
   ]
  },
  {
   "cell_type": "markdown",
   "id": "48dd8f9a",
   "metadata": {},
   "source": [
    "## Author Info"
   ]
  },
  {
   "cell_type": "markdown",
   "id": "08483dc6",
   "metadata": {},
   "source": [
    "(name: Brendan Bernbaum) (email: bernbabo@dukes.jmu.edu) (phone #: 301-524-3493) (address: 2408 NewBerry Lane, Rockingham Virginia, 22801)"
   ]
  },
  {
   "cell_type": "markdown",
   "id": "518838f8",
   "metadata": {},
   "source": [
    "## Conclusion"
   ]
  },
  {
   "cell_type": "markdown",
   "id": "4dc7c8b8",
   "metadata": {},
   "source": [
    "This project was used in order to represent how to extract specific bits of data from a large data table and be able to visually represent them in an accurate manner. Limitations from this project involve not showing every kind of graph that can be used to visualize data and only focusing on three variables when the data has plenty more. Improvements that could be made for this project involve extracting more particular variables and not being consistent with the same three, such as comparing the sum of deaths between days in different area codes. Another improvement would be to show all graphs that can be visualized from data instead of only three."
   ]
  },
  {
   "cell_type": "code",
   "execution_count": null,
   "id": "14b449ad",
   "metadata": {},
   "outputs": [],
   "source": []
  }
 ],
 "metadata": {
  "kernelspec": {
   "display_name": "conda_python3",
   "language": "python",
   "name": "conda_python3"
  },
  "language_info": {
   "codemirror_mode": {
    "name": "ipython",
    "version": 3
   },
   "file_extension": ".py",
   "mimetype": "text/x-python",
   "name": "python",
   "nbconvert_exporter": "python",
   "pygments_lexer": "ipython3",
   "version": "3.6.13"
  }
 },
 "nbformat": 4,
 "nbformat_minor": 5
}
